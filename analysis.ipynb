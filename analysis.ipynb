{
 "cells": [
  {
   "cell_type": "markdown",
   "id": "e3d6febe",
   "metadata": {},
   "source": [
    "# Survey Analysis"
   ]
  },
  {
   "cell_type": "code",
   "execution_count": null,
   "id": "26c44a22",
   "metadata": {},
   "outputs": [],
   "source": [
    "# imports\n",
    "from pandas import read_excel, DataFrame\n",
    "import matplotlib.pyplot as plt\n",
    "import numpy as np\n",
    "import re\n",
    "from collections import Counter\n",
    "import seaborn as sn\n",
    "from utils import report_column, plot_landmark_barplots\n",
    "\n",
    "from os import makedirs\n",
    "from os.path import join"
   ]
  },
  {
   "cell_type": "code",
   "execution_count": null,
   "id": "a9a6454a",
   "metadata": {},
   "outputs": [],
   "source": [
    "# Parameters\n",
    "COLORS = ['#D81B60', '#1E88E5', '#FFC107', '#004D40', '#E9801F', '#A6A717', '#EBE25A', '#000000']\n",
    "\n",
    "STAIN_MAP = {  # map answer stains to another name\n",
    "    'p62': 'Other', 'thioflavine-S': 'Other', 'P62': 'Other', 'positive': '', \n",
    "    '•\\tLuxol-fast-blue and counterstained with hematoxylin and eosin': 'Other',\n",
    "    'Alpha synuclein added when screening section positive': '', 'Thioflavin-S': 'Other', 'LFB': 'Other',\n",
    "    'Tau; p62 and synuclein added as needed': '', 'TDP added for FTLD/ALS cases': '',\n",
    "    'only collected; not stained': '', 'Aβ Stain': 'Aβeta', 'Thio S': 'Other', 'Thioflavin': 'Other', \n",
    "    'thioflavin S': 'Other', 'Alpha synuclein added when screening sections positive': '',\n",
    "    'do not stain for standard dx- collect block only': '', 'thio S': 'Other', 'HELFB': 'Other',\n",
    "    'Alpha synuclein added if screening sections positive': '', 'Tau Stain': 'Tau', 'Thioflavin S': 'Other',\n",
    "    'depends on the case': '', 'thioflavin': 'Other', 'LHE': 'Other', 'LHE; PrP': 'Other', \n",
    "    'TDP and tau staining done as needed for FTLD and CTE cases': '', 'α-Synuclein': 'α-Syn',\n",
    "    'P62 added for FTLD/ALS; Alpha synuclein added when screening sections positive': 'Other'\n",
    "}\n",
    "\n",
    "SAMPLING_MAP = {  # map sampling answers\n",
    "    'Sampled before coronal slicing': 'Before Coronal Slicing',\n",
    "    'Sampled after coronal slicing': 'After Coronal Slicing',\n",
    "    'Longitudinal section': 'Longitudinal',\n",
    "    'Transverse section': 'Transverse',\n",
    "    'Coronal section': 'Coronal',\n",
    "}"
   ]
  },
  {
   "cell_type": "code",
   "execution_count": null,
   "id": "bd1c112b",
   "metadata": {},
   "outputs": [],
   "source": [
    "# Survey results\n",
    "survey = read_excel('./de-identified-survey.xlsx').replace(np.nan, '', regex=True)\n",
    "\n",
    "# rename region columns for consistency among questions\n",
    "survey = survey.rename(columns={\n",
    "    'Posterior Cingulate Cortex Landmarks': 'Posterior Cingulate Gyrus Landmarks',\n",
    "    'Posterior Cingulate Cortex Sampling': 'Posterior Cingulate Gyrus Sampling',\n",
    "    'parietalGyriLandmarks': 'Parietal Gyri Landmarks',\n",
    "    'Do you target a specific # of Gyri and Sulci for this region; if so how many?': 'Parietal Gyri GS Count',\n",
    "    'Do you target a specific # of Gyri and Sulci for this region; if so how many?.1': 'Frontal Gyri GS Count',\n",
    "    'Do you target a specific # of Gyri and Sulci for this region; if so how many?.2': 'Temporal Lobe GS Count',\n",
    "    'Central Gyri Landmark': 'Central Gyri Landmarks'\n",
    "})\n",
    "\n",
    "# Save location\n",
    "save_dir = 'results'\n",
    "makedirs(save_dir, exist_ok=True)"
   ]
  },
  {
   "cell_type": "markdown",
   "id": "d3cec35f",
   "metadata": {},
   "source": [
    "## General Info Questions (IHC, WSI scanner, hemispheres, etc.)"
   ]
  },
  {
   "cell_type": "code",
   "execution_count": null,
   "id": "d7471b6f",
   "metadata": {},
   "outputs": [],
   "source": [
    "# Report affiliation of survey taker (redacted to protect survey anonymity)\n",
    "# # report the affiliated ADRC and the role of the taker\n",
    "# _ = report_column(survey['What ADRC are you affiliated with?'].tolist(), join(save_dir, 'ADRC-affilication.txt'))\n",
    "# _ = report_column(survey['What is your role in the ADRC?'].tolist(), join(save_dir, 'role-of-respondent.txt'),\n",
    "#                   map_dict={'NP Core Co-Leader': 'Neuropathology Core Co-leader'})"
   ]
  },
  {
   "cell_type": "code",
   "execution_count": null,
   "id": "224d8fd8",
   "metadata": {},
   "outputs": [],
   "source": [
    "# IHC report\n",
    "ihc_values = []\n",
    "\n",
    "ihc_cols = [\n",
    "    'How do you currently process / counterstain your IHC slides?  Check all that apply. >> Hematoxylin Counter Stain Used',\n",
    "    'How do you currently process / counterstain your IHC slides?  Check all that apply. >> DAB as chromogen (brown) with no enhancement:',\n",
    "    'How do you currently process / counterstain your IHC slides?  Check all that apply. >> DAB as chromogen with nickel enhancement'\n",
    "]\n",
    "for _, r in survey[ihc_cols].iterrows():\n",
    "    val = []\n",
    "\n",
    "    if r[ihc_cols[0]] == 'Yes':\n",
    "        val.append('Hematoxylin Counterstain')\n",
    "    if r[ihc_cols[1]] == 'Yes':\n",
    "        val.append('DAB as chromogen (brown) with no enhancement')\n",
    "    if r[ihc_cols[2]] == 'Yes':\n",
    "        val.append('DAB as chromogen with nickle enhancement')\n",
    "\n",
    "    ihc_values.append('\\n'.join(val))\n",
    "\n",
    "_ = report_column(ihc_values, join(save_dir, 'ihc-process-counterstain.txt'))"
   ]
  },
  {
   "cell_type": "code",
   "execution_count": null,
   "id": "25556de1",
   "metadata": {},
   "outputs": [],
   "source": [
    "# Brain hemispheres.\n",
    "hemis = survey['Brain Hemisphere'].tolist()\n",
    "\n",
    "for i, hemi in enumerate(hemis):\n",
    "    if hemi in ('Left\\nRight', 'Left\\nBoth', 'Right\\nBoth', 'Left\\nRight\\nBoth'):\n",
    "        hemis[i] = 'Both'\n",
    "\n",
    "_ = report_column(hemis, join(save_dir, 'hemispheres-sampled.txt'))"
   ]
  },
  {
   "cell_type": "code",
   "execution_count": null,
   "id": "442ee6e3",
   "metadata": {},
   "outputs": [],
   "source": [
    "# Special preparation, free text answer (redacted for to protect survey anonymity)\n",
    "# _ = report_column(\n",
    "#     survey['Special Preparation / Additional Info; average cost per slide of IHC?'].tolist(),\n",
    "#     join(save_dir, 'special-prep.txt')\n",
    "#     )"
   ]
  },
  {
   "cell_type": "code",
   "execution_count": null,
   "id": "790e741c",
   "metadata": {},
   "outputs": [],
   "source": [
    "# Average Section thickness in μm: this question was free typed, cleaning up answers after manual inspection\n",
    "thickenss = survey['Average Section thickness in μm:'].tolist()\n",
    "\n",
    "for i, t in enumerate(thickenss):\n",
    "    # clean up the string\n",
    "    t = t.strip()\n",
    "    t = t.replace('um', '')\n",
    "    t = t.replace('microns', '')\n",
    "\n",
    "    if t == 'see above':  # from special prep free text question\n",
    "        t = '80'\n",
    "    elif t == '8.0':\n",
    "        t = '8'\n",
    "\n",
    "    thickenss[i] = t\n",
    "\n",
    "_ = report_column(thickenss, join(save_dir, 'section-thickness-microns.txt'))"
   ]
  },
  {
   "cell_type": "code",
   "execution_count": null,
   "id": "33bd999b",
   "metadata": {},
   "outputs": [],
   "source": [
    "# WSI scanner\n",
    "_ = report_column(survey['What type of slide scanner does your ADRC primarily have access to/use ?'].tolist(),\n",
    "                  join(save_dir, 'wsi-scanners.txt'))"
   ]
  },
  {
   "cell_type": "code",
   "execution_count": null,
   "id": "7dfd1768",
   "metadata": {},
   "outputs": [],
   "source": [
    "# Report on the antibodies\n",
    "_ = report_column(survey['Tau Antibody'].tolist(), join(save_dir, 'tau-antibody.txt'))\n",
    "_ = report_column(survey['aBeta Antibody'].tolist(), join(save_dir, 'abeta-antibody.txt'))\n",
    "_ = report_column(survey['TDP43 Antibody'].tolist(), join(save_dir, 'tdp43-antibody.txt'))\n",
    "_ = report_column(survey['Alpha Synuclein Antibody'].tolist(), join(save_dir, 'aSyn-antibody.txt'))"
   ]
  },
  {
   "cell_type": "code",
   "execution_count": null,
   "id": "40b66978",
   "metadata": {},
   "outputs": [],
   "source": [
    "# Vendor info (redactor to protect survye anonymity)\n",
    "# # save the vendor info\n",
    "# _ = report_column(survey['Tau Vendor / Clone Info'].tolist(), join(save_dir, 'tau-antibody-vendor.txt'))\n",
    "# _ = report_column(survey['aBeta Vendor / Clone Info'].tolist(), join(save_dir, 'abeta-antibody-vendor.txt'))\n",
    "# _ = report_column(survey['TDP43 Vendor / Clone Info'].tolist(), join(save_dir, 'tdp43-antibody-vendor.txt'))\n",
    "# _ = report_column(survey['Alpha Synuclein Vendor / Clone Info'].tolist(), join(save_dir, 'aSyn-antibody-vendor.txt'))\n",
    "\n",
    "# # Report who does the sampling / sectioning\n",
    "# _ = report_column(survey['Does the same expert / pathologist do most if not all of the blocking?'].tolist(),\n",
    "#                   join(save_dir, 'blocking.txt'))"
   ]
  },
  {
   "cell_type": "markdown",
   "id": "30c7b4e3",
   "metadata": {},
   "source": [
    "## Region Questions"
   ]
  },
  {
   "cell_type": "code",
   "execution_count": null,
   "id": "db89159e",
   "metadata": {},
   "outputs": [],
   "source": [
    "# get list of region names\n",
    "regions = []\n",
    "splits = (' Landmarks', ' Stains', ' Sampling', ' GS Count')\n",
    "\n",
    "for col in survey.columns:\n",
    "    if col.endswith(splits):\n",
    "        for split in splits:\n",
    "            col = col.split(split)[0]\n",
    "\n",
    "        if col not in regions:\n",
    "            regions.append(col)\n",
    "\n",
    "# all figures saved to a single location\n",
    "fig_dir = join('figures')\n",
    "makedirs(fig_dir, exist_ok=True)"
   ]
  },
  {
   "cell_type": "markdown",
   "id": "dcf98f87",
   "metadata": {},
   "source": [
    "### Stacked bar plot"
   ]
  },
  {
   "cell_type": "code",
   "execution_count": null,
   "id": "8b905a2b",
   "metadata": {},
   "outputs": [],
   "source": [
    "# Plot a stacked bar plot for the sampling approach answers (i.e. before / after coronal slicing)\n",
    "sampling_df, s_regions = [], []\n",
    "cols = ['After Coronal Slicing', 'Before Coronal Slicing', 'Longitudinal', 'Transverse', 'Coronal', 'Other']\n",
    "\n",
    "temp = []##\n",
    "for region in regions:\n",
    "    if f'{region} Sampling' not in survey:\n",
    "        continue\n",
    "\n",
    "    s_regions.append(region)\n",
    "\n",
    "    # get a list of all the answers for all centers\n",
    "    sampling_answers = report_column(survey[f'{region} Sampling'].tolist(), map_dict=SAMPLING_MAP)[0]\n",
    "\n",
    "    for i, s in enumerate(sampling_answers):\n",
    "        if s not in SAMPLING_MAP.values():\n",
    "            sampling_answers[i] = 'Other'\n",
    "\n",
    "    sampling_answers = Counter(sampling_answers)\n",
    "\n",
    "    row = []\n",
    "    for c in cols:\n",
    "        row.append(sampling_answers[c] if c in sampling_answers else 0)\n",
    "\n",
    "    sampling_df.append(row)\n",
    "\n",
    "# compile into a dataframe\n",
    "sampling_answers = DataFrame(sampling_df, index=s_regions, columns=cols)\n",
    "\n",
    "fig, ax = plt.subplots(figsize=(15,10))\n",
    "bottom = np.zeros(len(sampling_answers))\n",
    "\n",
    "for i, col in enumerate(sampling_answers.columns):\n",
    "    ax.bar(sampling_answers.index, sampling_answers[col], bottom=bottom, label=col, color=COLORS[i])\n",
    "    bottom += np.array(sampling_answers[col])\n",
    "\n",
    "totals = sampling_answers.sum(axis=1)\n",
    "y_offset = 10\n",
    "\n",
    "plt.ylim([0, 40])\n",
    "fig.set_facecolor('#fffbe7')\n",
    "ax.set_facecolor(\"#fffbe7\")\n",
    "\n",
    "# Let's put the annotations inside the bars themselves by using a\n",
    "# negative offset.\n",
    "y_offset = -1\n",
    "# For each patch (basically each rectangle within the bar), add a label.\n",
    "for bar in ax.patches:\n",
    "    if bar.get_height() != 0:\n",
    "        ax.text(\n",
    "            # Put the text in the middle of each bar. get_x returns the start\n",
    "            # so we add half the width to get to the middle.\n",
    "            bar.get_x() + bar.get_width() / 2,\n",
    "            # Vertically, add the height of the bar to the start of the bar,\n",
    "            # along with the offset.\n",
    "            bar.get_height() + bar.get_y() + y_offset,\n",
    "            # This is actual value we'll show.\n",
    "            round(bar.get_height()),\n",
    "            # Center the labels and style them a bit.\n",
    "            ha='center',\n",
    "            color='black',\n",
    "            weight='bold',\n",
    "            size=18\n",
    "        )\n",
    "\n",
    "ax.tick_params(axis='x', which='major', pad=-15, rotation=90)  # move the tick axis label baseline\n",
    "plt.xticks(fontweight='bold', fontsize=16, color='w', verticalalignment='baseline')\n",
    "\n",
    "ax.set_title('Region Sampling Approach', fontsize=20, fontweight='bold', y=1.10)\n",
    "ax.legend(bbox_to_anchor=(0.75, 1.10), ncol=int(len(cols) / 2), fontsize=14)\n",
    "plt.yticks(fontsize=16)\n",
    "\n",
    "plt.tick_params(axis='x', which='both', bottom=False, top=False)\n",
    "plt.xlabel('Brain Region', fontsize=18, fontweight='bold')\n",
    "plt.ylabel('Number of Centers', fontsize=18, fontweight='bold')\n",
    "\n",
    "ax.margins(x=0.01)\n",
    "# save figure\n",
    "plt.savefig(join(fig_dir, 'sampling-stacked-bar-plot.png'), dpi=300, bbox_inches='tight')\n",
    "sampling_answers.to_csv(join(fig_dir, 'sampling-stacked-bar-plot.csv'))\n",
    "plt.show()"
   ]
  },
  {
   "cell_type": "markdown",
   "id": "29f93edc",
   "metadata": {},
   "source": [
    "### Landmark Bar Plots"
   ]
  },
  {
   "cell_type": "code",
   "execution_count": null,
   "id": "0d0e484e",
   "metadata": {},
   "outputs": [],
   "source": [
    "# Landmark bar plots - tailor each one by renaming the landmarks so they fit nicely in the plots\n",
    "lm_bar_dir = join('figures/landmark-barplots')\n",
    "makedirs(lm_bar_dir, exist_ok=True)"
   ]
  },
  {
   "cell_type": "code",
   "execution_count": null,
   "id": "0366abc1",
   "metadata": {},
   "outputs": [],
   "source": [
    "plot_landmark_barplots(survey[f'{regions[0]} Landmarks'], min_count=3, figsize=(5,5), )"
   ]
  },
  {
   "cell_type": "code",
   "execution_count": null,
   "id": "7aafa204",
   "metadata": {},
   "outputs": [],
   "source": [
    "plot_landmark_barplots(survey[f'{regions[1]} Landmarks'], min_count=0, figsize=(6,5),\n",
    "                       plot_dict={'Motor neurons present on microscopic evaluation': 'MNP', 'BA 4;3;2;1': 'BA 1-4'})"
   ]
  },
  {
   "cell_type": "code",
   "execution_count": null,
   "id": "d7d30913",
   "metadata": {},
   "outputs": [],
   "source": [
    "plot_landmark_barplots(survey[f'{regions[2]} Landmarks'], min_count=3, figsize=(7,5),\n",
    "                       plot_dict={'BA 39; 40': 'BA 39 & 40', 'MIddle': 'Middle'})"
   ]
  },
  {
   "cell_type": "code",
   "execution_count": null,
   "id": "a0af64c7",
   "metadata": {},
   "outputs": [],
   "source": [
    "plot_landmark_barplots(survey[f'{regions[3]} Landmarks'], min_count=0, figsize=(5,5),\n",
    "                       plot_dict={'collected but only for research': 'Research Only', 'Region collected': 'Collected'})"
   ]
  },
  {
   "cell_type": "code",
   "execution_count": null,
   "id": "173dfc7a",
   "metadata": {},
   "outputs": [],
   "source": [
    "plot_landmark_barplots(survey[f'{regions[4]} Landmarks'], min_count=2, figsize=(5,5),\n",
    "                       plot_dict={'Collected but only for research': 'for research', 'Region collected': 'collected'})"
   ]
  },
  {
   "cell_type": "code",
   "execution_count": null,
   "id": "3dea195b",
   "metadata": {},
   "outputs": [],
   "source": [
    "plot_landmark_barplots(survey[f'{regions[5]} Landmarks'], min_count=2, figsize=(5,5),\n",
    "                       plot_dict={'Collected but only for research': 'for research', 'Region collected': 'collected'})"
   ]
  },
  {
   "cell_type": "code",
   "execution_count": null,
   "id": "77fd096b",
   "metadata": {},
   "outputs": [],
   "source": [
    "plot_landmark_barplots(survey[f'{regions[6]} Landmarks'], min_count=2, figsize=(2.5,5),\n",
    "                       plot_dict={'Line of Gennari (BA17)': 'Line of Gennari\\nBA 17', 'Region collected': 'collected'})"
   ]
  },
  {
   "cell_type": "code",
   "execution_count": null,
   "id": "2755950d",
   "metadata": {},
   "outputs": [],
   "source": [
    "plot_landmark_barplots(\n",
    "    survey[f'{regions[7]} Landmarks'], min_count=2, figsize=(6,5), plot_dict={'Lateral Geniculate Nucleus': 'LGN', \n",
    "    'CA1-4 with dentate gyrus': 'CA1-4 w/\\nDentate Gyrus', 'Parahippocampal Gyrus': 'Parahippocampal\\nGyrus',\n",
    "    'Occipital Temporal Gyrus': 'Occipital Temporal\\nGyrus', 'Tail of caudate': 'Tail of Caudate'}\n",
    ")"
   ]
  },
  {
   "cell_type": "code",
   "execution_count": null,
   "id": "52f86bda",
   "metadata": {},
   "outputs": [],
   "source": [
    "plot_landmark_barplots(survey[f'{regions[8]} Landmarks'], min_count=2, figsize=(3.5,5),\n",
    "                       plot_dict={'Line of gennari (ba17)': 'Line of Gennari\\nBa17', 'Region collected': 'collected'})"
   ]
  },
  {
   "cell_type": "code",
   "execution_count": null,
   "id": "c400156f",
   "metadata": {},
   "outputs": [],
   "source": [
    "plot_landmark_barplots(\n",
    "    survey[f'{regions[9]} Landmarks'], min_count=2, figsize=(5,5), plot_dict={\n",
    "        'Line of gennari (ba17)': 'Line of Gennari\\nBa17', \n",
    "        'Region collected': 'collected', 'BA 17; 18': 'BA 17 & 18'}\n",
    ")"
   ]
  },
  {
   "cell_type": "code",
   "execution_count": null,
   "id": "e7b2d127",
   "metadata": {},
   "outputs": [],
   "source": [
    "plot_landmark_barplots(survey[f'{regions[10]} Landmarks'], min_count=0, figsize=(2.5,5),\n",
    "                       plot_dict={'PHG & ITG if will fit': 'PHG & ITG\\nif will fit'})"
   ]
  },
  {
   "cell_type": "code",
   "execution_count": null,
   "id": "b2d9f0bc",
   "metadata": {},
   "outputs": [],
   "source": [
    "plot_landmark_barplots(survey[f'{regions[11]} Landmarks'], min_count=0, figsize=(7,5),\n",
    "                       plot_dict={'Dorsal Motor Nucleus of the Vagus': 'DMV', 'Region collected': 'collected'})"
   ]
  },
  {
   "cell_type": "code",
   "execution_count": null,
   "id": "702a386c",
   "metadata": {},
   "outputs": [],
   "source": [
    "plot_landmark_barplots(\n",
    "    survey[f'{regions[12]} Landmarks'], min_count=3, figsize=(9,5), plot_dict={\n",
    "        'Region Collected': 'collected', 'Anterior Commissure': 'AC'\n",
    "    })"
   ]
  },
  {
   "cell_type": "code",
   "execution_count": null,
   "id": "f798e576",
   "metadata": {},
   "outputs": [],
   "source": [
    "plot_landmark_barplots(\n",
    "    survey[f'{regions[13]} Landmarks'], min_count=3, figsize=(7,5), title='Thalamus & Subthalamic Nuclei\\nLandmarks',\n",
    "    plot_dict={'Anterior Nucleus of the thalamus': 'Anterior nucleus', 'Mammilo-thalamic Tract': 'MT tract', \n",
    "               'Subthalamic Nucleus': 'Subthalamic\\nnucleus'}\n",
    ")"
   ]
  },
  {
   "cell_type": "code",
   "execution_count": null,
   "id": "ab756f37",
   "metadata": {},
   "outputs": [],
   "source": [
    "plot_landmark_barplots(survey[f'{regions[14]} Landmarks'], min_count=3, figsize=(6,5), plot_dict={})"
   ]
  },
  {
   "cell_type": "code",
   "execution_count": null,
   "id": "c742468c",
   "metadata": {},
   "outputs": [],
   "source": [
    "plot_landmark_barplots(survey[f'{regions[15]} Landmarks'], min_count=3, figsize=(3.5,5), \n",
    "                       plot_dict={'Entorhinal Cortex': 'EC'})"
   ]
  },
  {
   "cell_type": "code",
   "execution_count": null,
   "id": "a0c34d4c",
   "metadata": {},
   "outputs": [],
   "source": [
    "plot_landmark_barplots(survey[f'{regions[16]} Landmarks'], min_count=3, figsize=(5,5), plot_dict={})"
   ]
  },
  {
   "cell_type": "code",
   "execution_count": null,
   "id": "ccf63711",
   "metadata": {},
   "outputs": [],
   "source": [
    "plot_landmark_barplots(survey[f'{regions[17]} Landmarks'], min_count=3, figsize=(6,5), \n",
    "                       plot_dict={'Superior Cerebellar Peduncle': 'Superior Cerebellar\\nPeduncle'})"
   ]
  },
  {
   "cell_type": "code",
   "execution_count": null,
   "id": "4a1a06cc",
   "metadata": {},
   "outputs": [],
   "source": [
    "plot_landmark_barplots(survey[f'{regions[18]} Landmarks'], min_count=3, figsize=(5,5), plot_dict={})\n",
    "\n",
    "# report on the gyri question - only 4\n",
    "for col in survey.columns:\n",
    "    if 'GS' in col:\n",
    "        _ = report_column(survey[col].tolist(), save_fp=join(save_dir, re.sub(' +', '-', col) + '.txt'))"
   ]
  },
  {
   "cell_type": "markdown",
   "id": "63c8f7a4",
   "metadata": {},
   "source": [
    "### Heatmap of Region vs Stain Counts"
   ]
  },
  {
   "cell_type": "code",
   "execution_count": null,
   "id": "f1bc8f16",
   "metadata": {},
   "outputs": [],
   "source": [
    "# create a heatmap: x axis is the stains, y axis is the brain region\n",
    "stains = ('Other', 'Silver', 'CD68', 'TDP-43', 'α-Syn', 'Tau', 'Aβeta', 'H&E')\n",
    "stain_labels = ('Other', 'Silver', 'CD68', 'TDP-43', 'α-Syn', 'Tau', 'Aβ', 'H&E')\n",
    "\n",
    "stain_region_df = []\n",
    "for region in regions:\n",
    "    # report the column\n",
    "    region_answers = report_column(survey[f'{region} Stains'].tolist(), map_dict=STAIN_MAP)[0]\n",
    "    region_answers = Counter(region_answers)\n",
    "\n",
    "    row = []\n",
    "\n",
    "    for stain in stains:\n",
    "        row.append(region_answers[stain] if stain in region_answers else 0)\n",
    "\n",
    "    stain_region_df.append(row)\n",
    "\n",
    "stain_region_df = DataFrame(stain_region_df, index=regions, columns=stains)\n",
    "stain_region_df = stain_region_df.sort_values(by='H&E', ascending=False)\n",
    "\n",
    "# plot the heatmap\n",
    "sn.set(font_scale=1.6)\n",
    "fig = plt.figure(figsize=(10,12))\n",
    "ax = plt.gca()\n",
    "hm = sn.heatmap(data=stain_region_df, annot=True, ax=ax, annot_kws={\"fontsize\":20}, cbar=True, cmap='BuPu', \n",
    "                linewidths=1, linecolor='black', clip_on=False, xticklabels=stain_labels)\n",
    "ax.set_ylabel('Brain Region', labelpad=20, weight='bold', fontsize=24)\n",
    "ax.set_xlabel('Stain', labelpad=20, weight='bold', fontsize=24)\n",
    "plt.xticks(rotation=70)\n",
    "ax.set_title('Region Staining by Centers', fontsize=28, pad=20, weight='bold')\n",
    "fig.set_facecolor('#fffbe7')\n",
    "ax.set_facecolor(\"#fffbe7\")\n",
    "plt.savefig(join(fig_dir, 'brain-stain-heatmap.png'), dpi=300, bbox_inches='tight')\n",
    "stain_region_df.to_csv(join(fig_dir, 'brain-stain-heatmap.csv'))\n",
    "plt.show()"
   ]
  }
 ],
 "metadata": {
  "kernelspec": {
   "display_name": "Python 3 (ipykernel)",
   "language": "python",
   "name": "python3"
  },
  "language_info": {
   "codemirror_mode": {
    "name": "ipython",
    "version": 3
   },
   "file_extension": ".py",
   "mimetype": "text/x-python",
   "name": "python",
   "nbconvert_exporter": "python",
   "pygments_lexer": "ipython3",
   "version": "3.11.3"
  }
 },
 "nbformat": 4,
 "nbformat_minor": 5
}
